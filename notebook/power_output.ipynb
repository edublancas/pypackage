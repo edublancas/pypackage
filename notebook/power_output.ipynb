{
 "cells": [
  {
   "cell_type": "markdown",
   "metadata": {
    "papermill": {
     "duration": 0.000685,
     "end_time": "2018-09-27T01:07:00.769286",
     "exception": false,
     "start_time": "2018-09-27T01:07:00.768601",
     "status": "completed"
    },
    "tags": []
   },
   "source": [
    "## Power raiser\n",
    "\n",
    "This notebook raise a number to a power"
   ]
  },
  {
   "cell_type": "code",
   "execution_count": 1,
   "metadata": {
    "papermill": {
     "duration": 0.01139,
     "end_time": "2018-09-27T01:07:00.783805",
     "exception": false,
     "start_time": "2018-09-27T01:07:00.772415",
     "status": "completed"
    },
    "tags": []
   },
   "outputs": [],
   "source": [
    "from lib import math"
   ]
  },
  {
   "cell_type": "code",
   "execution_count": 2,
   "metadata": {
    "papermill": {
     "duration": 0.015756,
     "end_time": "2018-09-27T01:07:00.799708",
     "exception": false,
     "start_time": "2018-09-27T01:07:00.783952",
     "status": "completed"
    },
    "tags": []
   },
   "outputs": [],
   "source": [
    "def main(x, y):\n",
    "    answer = math.power(x, y)\n",
    "    print('{} ^ {} = {}'.format(x, y, answer))"
   ]
  },
  {
   "cell_type": "code",
   "execution_count": 3,
   "metadata": {
    "papermill": {
     "duration": 0.00877,
     "end_time": "2018-09-27T01:07:00.808582",
     "exception": false,
     "start_time": "2018-09-27T01:07:00.799812",
     "status": "completed"
    },
    "tags": [
     "parameters"
    ]
   },
   "outputs": [],
   "source": [
    "x = 1\n",
    "y = 2"
   ]
  },
  {
   "cell_type": "code",
   "execution_count": 4,
   "metadata": {
    "papermill": {
     "duration": 0.00869,
     "end_time": "2018-09-27T01:07:00.817494",
     "exception": false,
     "start_time": "2018-09-27T01:07:00.808804",
     "status": "completed"
    },
    "tags": [
     "injected-parameters"
    ]
   },
   "outputs": [],
   "source": [
    "# Parameters\n",
    "x = 2\n",
    "y = 3\n"
   ]
  },
  {
   "cell_type": "code",
   "execution_count": 5,
   "metadata": {
    "papermill": {
     "duration": 0.012561,
     "end_time": "2018-09-27T01:07:00.830863",
     "exception": false,
     "start_time": "2018-09-27T01:07:00.818302",
     "status": "completed"
    },
    "tags": []
   },
   "outputs": [
    {
     "name": "stdout",
     "output_type": "stream",
     "text": [
      "2 ^ 3 = 8\n"
     ]
    }
   ],
   "source": [
    "main(x, y)"
   ]
  }
 ],
 "metadata": {
  "celltoolbar": "Tags",
  "kernelspec": {
   "display_name": "Python 3",
   "language": "python",
   "name": "python3"
  },
  "language_info": {
   "codemirror_mode": {
    "name": "ipython",
    "version": 3
   },
   "file_extension": ".py",
   "mimetype": "text/x-python",
   "name": "python",
   "nbconvert_exporter": "python",
   "pygments_lexer": "ipython3",
   "version": "3.5.5"
  },
  "papermill": {
   "duration": 2.412383,
   "end_time": "2018-09-27T01:07:01.744479",
   "environment_variables": {},
   "exception": false,
   "output_path": "power_output.ipynb",
   "parameters": {
    "x": 2,
    "y": 3
   },
   "start_time": "2018-09-27T01:06:59.332096",
   "version": "0.15.0"
  }
 },
 "nbformat": 4,
 "nbformat_minor": 2
}